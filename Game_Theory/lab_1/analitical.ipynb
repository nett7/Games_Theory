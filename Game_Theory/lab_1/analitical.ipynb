{
 "cells": [
  {
   "cell_type": "markdown",
   "metadata": {},
   "source": [
    "# Lab_1"
   ]
  },
  {
   "cell_type": "markdown",
   "metadata": {},
   "source": [
    "## Analitical solution"
   ]
  },
  {
   "cell_type": "code",
   "execution_count": 27,
   "metadata": {},
   "outputs": [],
   "source": [
    "import numpy as np"
   ]
  },
  {
   "cell_type": "code",
   "execution_count": 28,
   "metadata": {},
   "outputs": [
    {
     "data": {
      "text/plain": [
       "array([[12,  5,  4],\n",
       "       [12,  0, 12],\n",
       "       [ 5, 13,  6]])"
      ]
     },
     "execution_count": 28,
     "metadata": {},
     "output_type": "execute_result"
    }
   ],
   "source": [
    "C = np.array([\n",
    "        [12, 5, 4],\n",
    "        [12, 0, 12],\n",
    "        [5, 13, 6]\n",
    "    ]\n",
    ")\n",
    "C"
   ]
  },
  {
   "cell_type": "code",
   "execution_count": 29,
   "metadata": {},
   "outputs": [
    {
     "name": "stdout",
     "output_type": "stream",
     "text": [
      "cost =  7.927272727272728\n",
      "x =  [0.07272727 0.34545455 0.58181818]\n",
      "y =  [0.44848485 0.33939394 0.21212121]\n"
     ]
    }
   ],
   "source": [
    "u = np.ones(C.shape[0])\n",
    "C_inv = np.linalg.inv(C)\n",
    "cost = 1 / (u @ C_inv @ u.transpose())\n",
    "print ('cost = ', cost)\n",
    "x = cost * (u @ C_inv)\n",
    "print ('x = ', x)\n",
    "y = (C_inv @ u.transpose()) * cost\n",
    "print ('y = ', y)"
   ]
  }
 ],
 "metadata": {
  "kernelspec": {
   "display_name": "Python 3",
   "language": "python",
   "name": "python3"
  },
  "language_info": {
   "codemirror_mode": {
    "name": "ipython",
    "version": 3
   },
   "file_extension": ".py",
   "mimetype": "text/x-python",
   "name": "python",
   "nbconvert_exporter": "python",
   "pygments_lexer": "ipython3",
   "version": "3.9.12"
  }
 },
 "nbformat": 4,
 "nbformat_minor": 4
}
