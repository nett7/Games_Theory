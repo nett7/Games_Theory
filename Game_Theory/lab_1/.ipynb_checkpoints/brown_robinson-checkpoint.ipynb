{
 "cells": [
  {
   "cell_type": "code",
   "execution_count": 19,
   "metadata": {},
   "outputs": [],
   "source": [
    "import math\n",
    "import fractions\n",
    "import random\n",
    "from sys import stdout"
   ]
  },
  {
   "cell_type": "markdown",
   "metadata": {},
   "source": [
    "## Matrix"
   ]
  },
  {
   "cell_type": "code",
   "execution_count": 37,
   "metadata": {},
   "outputs": [],
   "source": [
    "C_example = [\n",
    "        [2, 1, 3], \n",
    "        [3, 0, 1],\n",
    "        [1, 2, 1]\n",
    "    ]\n",
    "\n",
    "C = [\n",
    "        [12, 5, 4],\n",
    "        [12, 0, 12],\n",
    "        [5, 13, 6]\n",
    "    ]"
   ]
  },
  {
   "cell_type": "markdown",
   "metadata": {},
   "source": [
    "## Formaters"
   ]
  },
  {
   "cell_type": "code",
   "execution_count": 54,
   "metadata": {},
   "outputs": [],
   "source": [
    "int_formatter = \"{:^8d}\"\n",
    "float_formatter = \"{:>4d}/{:<4d}\"\n",
    "str_formatter = \"{:^8s}\"\n",
    "outline = \"||\"\n",
    "separator = \"|\"\n",
    "line_formatter = (outline + separator.join([int_formatter] * 3) \n",
    "+ outline + separator.join([int_formatter] * 3)\n",
    "+ outline + separator.join([int_formatter] * 3)\n",
    "+ outline + separator.join([float_formatter] * 3) + outline)\n",
    "\n",
    "header_formatter = (outline + separator.join([str_formatter] * 3)\n",
    "+ outline + \"{:^27s}\"\n",
    "+ outline + \"{:^27s}\"\n",
    "+ outline + separator.join([str_formatter] * 3) + outline)\n",
    "\n",
    "out_file = stdout"
   ]
  },
  {
   "cell_type": "markdown",
   "metadata": {},
   "source": [
    "## Functions"
   ]
  },
  {
   "cell_type": "code",
   "execution_count": 55,
   "metadata": {},
   "outputs": [],
   "source": [
    "def get_rand_max_index(arr):\n",
    "    max_i = []\n",
    "    max_el = max(arr)\n",
    "    i = arr.index(max_el)\n",
    "    max_i.append(i)\n",
    "    for i in range (max_i[0] + 1, len(arr)):\n",
    "        if arr[i] == max_el:\n",
    "            max_i.append(i)\n",
    "    return random.choice(max_i)\n",
    "\n",
    "def get_rand_min_index(arr):\n",
    "    min_i = []\n",
    "    min_el = min(arr)\n",
    "    i = arr.index(min_el)\n",
    "    min_i.append(i)\n",
    "    for i in range (min_i[0] + 1, len(arr)):\n",
    "        if arr[i] == min_el:\n",
    "            min_i.append(i)\n",
    "    return random.choice(min_i)\n",
    "\n",
    "def get_row_by_index(matrix, index):\n",
    "    return matrix[index]\n",
    "\n",
    "def get_column_by_index(matrix, index):\n",
    "    return [matrix[i][index] for i in range(len(matrix))]\n",
    "\n",
    "def get_max_index(arr):\n",
    "    return arr.index(max(arr))\n",
    "\n",
    "def get_min_index(arr):\n",
    "    return arr.index(min(arr))\n",
    "\n",
    "def vector_addition(a, b):\n",
    "    return [i + j for i, j in zip(a, b)]\n",
    "\n",
    "def printHeader(curr_file):\n",
    "    if curr_file:\n",
    "        print(header_formatter.format(\"k\", \"A strat\", \"B strat\", \"Win A\", \"Loss B\", \"UpBound\", \"LowBound\", \"Eps\"), file=curr_file)\n",
    "        print(110 * \"-\", file=curr_file)\n",
    "\n",
    "def printLine(curr_file, k, A, B, win_a, loss_b, upper_bound, lower_bound, eps):\n",
    "    if curr_file:\n",
    "        print(line_formatter.format(k, A, B, win_a[0], win_a[1], win_a[2], loss_b[0], loss_b[1], loss_b[2], upper_bound.numerator, upper_bound.denominator, lower_bound.numerator, lower_bound.denominator, eps.numerator, eps.denominator), file=curr_file)\n",
    "\n",
    "def brown_robinson_method(C, eps):\n",
    "    m = len(C)    # A player strategies: strategy row consists of win of A\n",
    "    n = len(C[0]) # B player strategies: strategy column consists of loss of B\n",
    "\n",
    "    x = m * [0]\n",
    "    y = n * [0]\n",
    "\n",
    "    curr_strategy_a = 0\n",
    "    curr_strategy_b = 0\n",
    "\n",
    "    win_a = m * [0]\n",
    "    loss_b = n * [0]\n",
    "    curr_eps = math.inf\n",
    "    k = 0\n",
    "\n",
    "    lower_bounds = []\n",
    "    upper_bounds = []\n",
    "\n",
    "    printHeader(out_file)\n",
    "\n",
    "    while (curr_eps > eps):\n",
    "        k += 1\n",
    "        win_a = vector_addition(win_a, get_column_by_index(C, curr_strategy_b))\n",
    "        loss_b = vector_addition(loss_b, get_row_by_index(C, curr_strategy_a))\n",
    "        x[curr_strategy_a] += 1\n",
    "        y[curr_strategy_b] += 1\n",
    "\n",
    "        lower_bound = fractions.Fraction(min(loss_b), k)\n",
    "        upper_bound = fractions.Fraction(max(win_a), k)\n",
    "        lower_bounds.append(lower_bound)\n",
    "        upper_bounds.append(upper_bound)\n",
    "\n",
    "        curr_eps = min(upper_bounds) - max(lower_bounds)\n",
    "\n",
    "        printLine(out_file, k, curr_strategy_a + 1, curr_strategy_b + 1, win_a, loss_b, upper_bound, lower_bound, curr_eps)\n",
    "\n",
    "        curr_strategy_a = get_rand_max_index(win_a)\n",
    "        curr_strategy_b = get_rand_min_index(loss_b)\n",
    "\n",
    "    cost = max(lower_bounds) + fractions.Fraction(curr_eps, 2)\n",
    "\n",
    "    x = [fractions.Fraction(i, k) for i in x]\n",
    "    y = [fractions.Fraction(i, k) for i in y]\n",
    "\n",
    "    return x, y, cost\n"
   ]
  },
  {
   "cell_type": "markdown",
   "metadata": {},
   "source": [
    "## Main"
   ]
  },
  {
   "cell_type": "code",
   "execution_count": 61,
   "metadata": {},
   "outputs": [
    {
     "name": "stdout",
     "output_type": "stream",
     "text": [
      "Enter eps: 0.09\n",
      "||   k    |A strat |B strat ||           Win A           ||          Loss B           ||UpBound |LowBound|  Eps   ||\n",
      "--------------------------------------------------------------------------------------------------------------\n",
      "||   1    |   1    |   1    ||   2    |   3    |   1    ||   2    |   1    |   3    ||   3/1   |   1/1   |   2/1   ||\n",
      "||   2    |   2    |   2    ||   3    |   3    |   3    ||   5    |   1    |   4    ||   3/2   |   1/2   |   1/2   ||\n",
      "||   3    |   2    |   2    ||   4    |   3    |   5    ||   8    |   1    |   5    ||   5/3   |   1/3   |   1/2   ||\n",
      "||   4    |   3    |   2    ||   5    |   3    |   7    ||   9    |   3    |   6    ||   7/4   |   3/4   |   1/2   ||\n",
      "||   5    |   3    |   2    ||   6    |   3    |   9    ||   10   |   5    |   7    ||   9/5   |   1/1   |   1/2   ||\n",
      "||   6    |   3    |   2    ||   7    |   3    |   11   ||   11   |   7    |   8    ||  11/6   |   7/6   |   1/3   ||\n",
      "||   7    |   3    |   2    ||   8    |   3    |   13   ||   12   |   9    |   9    ||  13/7   |   9/7   |   3/14  ||\n",
      "||   8    |   3    |   3    ||   11   |   4    |   14   ||   13   |   11   |   10   ||   7/4   |   5/4   |   3/14  ||\n",
      "||   9    |   3    |   3    ||   14   |   5    |   15   ||   14   |   13   |   11   ||   5/3   |  11/9   |   3/14  ||\n",
      "||   10   |   3    |   3    ||   17   |   6    |   16   ||   15   |   15   |   12   ||  17/10  |   6/5   |   3/14  ||\n",
      "||   11   |   1    |   3    ||   20   |   7    |   17   ||   17   |   16   |   15   ||  20/11  |  15/11  |   3/22  ||\n",
      "||   12   |   1    |   3    ||   23   |   8    |   18   ||   19   |   17   |   18   ||  23/12  |  17/12  |   1/12  ||\n",
      "x = ( 1/4 1/6 7/12 )\n",
      "y = ( 1/12 1/2 5/12 )\n",
      "x = ( 0.25 0.16666666666666666 0.5833333333333334 )\n",
      "y = ( 0.08333333333333333 0.5 0.4166666666666667 )\n",
      "Cost is 35/24 = 1.4583333333333333\n"
     ]
    }
   ],
   "source": [
    "eps = float(input(\"Enter eps: \"))\n",
    "x, y, cost = brown_robinson_method(C, eps)\n",
    "print(\"x = (\",*x, \")\", file=out_file)\n",
    "print(\"y = (\",*y, \")\", file=out_file)\n",
    "print(\"x = (\", *[float(i) for i in x], \")\", file=out_file)\n",
    "print(\"y = (\", *[float(i) for i in y], \")\", file=out_file)\n",
    "print(\"Cost is {} = {}\".format(cost, float(cost)), file=out_file)"
   ]
  },
  {
   "cell_type": "code",
   "execution_count": null,
   "metadata": {},
   "outputs": [],
   "source": []
  }
 ],
 "metadata": {
  "kernelspec": {
   "display_name": "Python 3",
   "language": "python",
   "name": "python3"
  },
  "language_info": {
   "codemirror_mode": {
    "name": "ipython",
    "version": 3
   },
   "file_extension": ".py",
   "mimetype": "text/x-python",
   "name": "python",
   "nbconvert_exporter": "python",
   "pygments_lexer": "ipython3",
   "version": "3.9.12"
  }
 },
 "nbformat": 4,
 "nbformat_minor": 4
}
