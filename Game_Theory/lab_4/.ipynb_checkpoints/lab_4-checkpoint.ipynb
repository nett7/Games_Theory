{
 "cells": [
  {
   "cell_type": "markdown",
   "id": "f6708437",
   "metadata": {},
   "source": [
    "# Lab_4"
   ]
  },
  {
   "cell_type": "code",
   "execution_count": 31,
   "id": "19ae597d",
   "metadata": {},
   "outputs": [],
   "source": [
    "import random\n",
    "import math"
   ]
  },
  {
   "cell_type": "code",
   "execution_count": 32,
   "id": "611a38f6",
   "metadata": {},
   "outputs": [],
   "source": [
    "g_cur_game = {\n",
    "    'tree_height': 6,\n",
    "    'players_num': 2,\n",
    "    'strats_num': [3, 3],\n",
    "    'min_cost': -10,\n",
    "    'max_cost': 10\n",
    "}"
   ]
  },
  {
   "cell_type": "markdown",
   "id": "576f1cdb",
   "metadata": {},
   "source": [
    "## Functions"
   ]
  },
  {
   "cell_type": "code",
   "execution_count": 33,
   "id": "aef897cb",
   "metadata": {
    "scrolled": true
   },
   "outputs": [],
   "source": [
    "class Edge:\n",
    "    tag = None\n",
    "    parent = None\n",
    "    cost_array = []\n",
    "    children = []\n",
    "    path_last = None\n",
    "    def __init__(self, parent, tag):\n",
    "        self.parent = parent\n",
    "        self.tag = tag\n",
    "    def __repr__(self):\n",
    "        out = \"{}\".format(self.tag)\n",
    "        if self.parent:\n",
    "            out = \"{}({})\".format(out, self.parent.tag)\n",
    "        if self.cost_array:\n",
    "            return \"{}/{}\\\\\".format(out, self.cost_array)\n",
    "        return out\n",
    "\n",
    "def generate_random_game_tree(cur_game):\n",
    "    random.seed()\n",
    "    edges = []\n",
    "    cnt = 0\n",
    "    for i in range(cur_game['tree_height']):\n",
    "        if i == 0: # game just begins; add root\n",
    "            edges.append([Edge(None, cnt)])\n",
    "            cnt += 1\n",
    "            continue\n",
    "        cur_level = []\n",
    "        prev_level = edges[i - 1]\n",
    "        not_leaves = []\n",
    "        not_leaves_len = random.choice(range(1, len(prev_level) + 1))\n",
    "        for k in range(not_leaves_len):\n",
    "            elem = random.choice(range(0, len(prev_level)))\n",
    "            if elem not in not_leaves:\n",
    "                not_leaves.append(elem)\n",
    "        not_leaves.sort()\n",
    "        for k in range(len(prev_level)):\n",
    "            if k in not_leaves:\n",
    "                children = []\n",
    "                for _ in range(cur_game['strats_num'][(i - 1) % cur_game['players_num']]):\n",
    "                    cur_edge = Edge(prev_level[k], cnt)\n",
    "                    children.append(cur_edge)\n",
    "                    cur_level.append(cur_edge)\n",
    "                    cnt += 1\n",
    "                prev_level[k].children = children\n",
    "            else:\n",
    "                prev_level[k].cost_array = random.choices(range(cur_game['min_cost'], cur_game['max_cost'] + 1), k = cur_game['players_num'])\n",
    "                prev_level[k].path_last = prev_level[k]\n",
    "        edges.append(cur_level)\n",
    "    for cur_edge in edges[-1]:\n",
    "        cur_edge.cost_array = random.choices(range(cur_game['min_cost'], cur_game['max_cost'] + 1), k = cur_game['players_num'])\n",
    "        cur_edge.path_last = cur_edge\n",
    "    return edges\n",
    "\n",
    "def print_tree_by_level(tree):\n",
    "    for level in tree:\n",
    "        print(level)\n",
    "\n",
    "def get_path(edge):\n",
    "    path = []\n",
    "    while edge.parent:\n",
    "        path.append(edge.tag)\n",
    "        edge = edge.parent\n",
    "    path.append(edge.tag)\n",
    "    return path[::-1]\n",
    "\n",
    "def reverse_induction(tree, cur_game):\n",
    "    print(\"Game strategies tree:\")\n",
    "    print_tree_by_level(tree)\n",
    "\n",
    "    for i in range(1, len(tree)):\n",
    "        parent_level = cur_game['tree_height'] - 1 - i\n",
    "        for k in range(len(tree[parent_level])):\n",
    "            parent = tree[parent_level][k]\n",
    "            if parent.children:\n",
    "                cur_max_strat = -math.inf\n",
    "                for cur_edge_ind in range(len(parent.children)):\n",
    "                    cur_edge = parent.children[cur_edge_ind]\n",
    "                    if cur_edge.cost_array[parent_level % cur_game['players_num']] > cur_max_strat:\n",
    "                        cur_max_strat = cur_edge.cost_array[parent_level % cur_game['players_num']]\n",
    "                        cur_player_strat = cur_edge_ind\n",
    "                parent.cost_array = parent.children[cur_player_strat].cost_array\n",
    "                parent.path_last = parent.children[cur_player_strat].path_last\n",
    "        print(\"After {} step:\".format(i))\n",
    "        print_tree_by_level(tree)\n",
    "    return tree[0][0]\n",
    "\n",
    "def get_max_index(arr):\n",
    "    return arr.index(max(arr))"
   ]
  },
  {
   "cell_type": "markdown",
   "id": "c72c5447",
   "metadata": {},
   "source": [
    "## Main"
   ]
  },
  {
   "cell_type": "code",
   "execution_count": 44,
   "id": "060bef5c",
   "metadata": {},
   "outputs": [
    {
     "name": "stdout",
     "output_type": "stream",
     "text": [
      "0\n"
     ]
    }
   ],
   "source": [
    "print ((tree[1][0].parent))"
   ]
  },
  {
   "cell_type": "code",
   "execution_count": 34,
   "id": "17adcc89",
   "metadata": {},
   "outputs": [
    {
     "data": {
      "text/plain": [
       "[[0],\n",
       " [1(0)/[-6, -4]\\, 2(0), 3(0)],\n",
       " [4(2)/[-2, -7]\\, 5(2)/[-1, -5]\\, 6(2), 7(3), 8(3), 9(3)],\n",
       " [10(6)/[9, 6]\\,\n",
       "  11(6)/[3, -2]\\,\n",
       "  12(6)/[4, 10]\\,\n",
       "  13(7)/[-8, 1]\\,\n",
       "  14(7)/[4, -8]\\,\n",
       "  15(7),\n",
       "  16(8)/[4, -10]\\,\n",
       "  17(8),\n",
       "  18(8),\n",
       "  19(9),\n",
       "  20(9),\n",
       "  21(9)],\n",
       " [22(15),\n",
       "  23(15)/[-10, 5]\\,\n",
       "  24(15)/[-1, -9]\\,\n",
       "  25(17)/[6, -6]\\,\n",
       "  26(17)/[-9, 9]\\,\n",
       "  27(17)/[4, 8]\\,\n",
       "  28(18)/[-4, 8]\\,\n",
       "  29(18)/[-1, -10]\\,\n",
       "  30(18),\n",
       "  31(19)/[9, -2]\\,\n",
       "  32(19)/[-3, 0]\\,\n",
       "  33(19)/[9, 3]\\,\n",
       "  34(20)/[0, 9]\\,\n",
       "  35(20),\n",
       "  36(20),\n",
       "  37(21)/[-2, -9]\\,\n",
       "  38(21)/[-9, -3]\\,\n",
       "  39(21)/[-4, -3]\\],\n",
       " [40(22)/[7, 8]\\,\n",
       "  41(22)/[-7, 5]\\,\n",
       "  42(22)/[6, 1]\\,\n",
       "  43(30)/[6, -9]\\,\n",
       "  44(30)/[-7, -6]\\,\n",
       "  45(30)/[-8, 1]\\,\n",
       "  46(35)/[-3, -5]\\,\n",
       "  47(35)/[8, 6]\\,\n",
       "  48(35)/[10, 4]\\,\n",
       "  49(36)/[9, 6]\\,\n",
       "  50(36)/[3, 10]\\,\n",
       "  51(36)/[3, -1]\\]]"
      ]
     },
     "execution_count": 34,
     "metadata": {},
     "output_type": "execute_result"
    }
   ],
   "source": [
    "tree = generate_random_game_tree(g_cur_game)\n",
    "tree"
   ]
  },
  {
   "cell_type": "code",
   "execution_count": 10,
   "id": "cd43cd98",
   "metadata": {},
   "outputs": [
    {
     "name": "stdout",
     "output_type": "stream",
     "text": [
      "Game strategies tree:\n",
      "[0]\n",
      "[1(0)/[30, -7, 22]\\, 2(0)]\n",
      "[3(2), 4(2), 5(2)]\n",
      "[6(3), 7(3), 8(4), 9(4), 10(5)/[48, 3, 29]\\, 11(5)/[44, 21, 20]\\]\n",
      "[12(6)/[-35, 15, -23]\\, 13(6)/[-48, -48, 5]\\, 14(7)/[-31, -11, 19]\\, 15(7)/[36, -27, -32]\\, 16(8)/[-43, 50, 14]\\, 17(8)/[-18, -36, 5]\\, 18(9)/[4, 43, -31]\\, 19(9)/[-44, 47, 37]\\]\n",
      "After 1 step:\n",
      "[0]\n",
      "[1(0)/[30, -7, 22]\\, 2(0)]\n",
      "[3(2), 4(2), 5(2)]\n",
      "[6(3)/[-35, 15, -23]\\, 7(3)/[36, -27, -32]\\, 8(4)/[-18, -36, 5]\\, 9(4)/[4, 43, -31]\\, 10(5)/[48, 3, 29]\\, 11(5)/[44, 21, 20]\\]\n",
      "[12(6)/[-35, 15, -23]\\, 13(6)/[-48, -48, 5]\\, 14(7)/[-31, -11, 19]\\, 15(7)/[36, -27, -32]\\, 16(8)/[-43, 50, 14]\\, 17(8)/[-18, -36, 5]\\, 18(9)/[4, 43, -31]\\, 19(9)/[-44, 47, 37]\\]\n",
      "After 2 step:\n",
      "[0]\n",
      "[1(0)/[30, -7, 22]\\, 2(0)]\n",
      "[3(2)/[-35, 15, -23]\\, 4(2)/[-18, -36, 5]\\, 5(2)/[48, 3, 29]\\]\n",
      "[6(3)/[-35, 15, -23]\\, 7(3)/[36, -27, -32]\\, 8(4)/[-18, -36, 5]\\, 9(4)/[4, 43, -31]\\, 10(5)/[48, 3, 29]\\, 11(5)/[44, 21, 20]\\]\n",
      "[12(6)/[-35, 15, -23]\\, 13(6)/[-48, -48, 5]\\, 14(7)/[-31, -11, 19]\\, 15(7)/[36, -27, -32]\\, 16(8)/[-43, 50, 14]\\, 17(8)/[-18, -36, 5]\\, 18(9)/[4, 43, -31]\\, 19(9)/[-44, 47, 37]\\]\n",
      "After 3 step:\n",
      "[0]\n",
      "[1(0)/[30, -7, 22]\\, 2(0)/[-35, 15, -23]\\]\n",
      "[3(2)/[-35, 15, -23]\\, 4(2)/[-18, -36, 5]\\, 5(2)/[48, 3, 29]\\]\n",
      "[6(3)/[-35, 15, -23]\\, 7(3)/[36, -27, -32]\\, 8(4)/[-18, -36, 5]\\, 9(4)/[4, 43, -31]\\, 10(5)/[48, 3, 29]\\, 11(5)/[44, 21, 20]\\]\n",
      "[12(6)/[-35, 15, -23]\\, 13(6)/[-48, -48, 5]\\, 14(7)/[-31, -11, 19]\\, 15(7)/[36, -27, -32]\\, 16(8)/[-43, 50, 14]\\, 17(8)/[-18, -36, 5]\\, 18(9)/[4, 43, -31]\\, 19(9)/[-44, 47, 37]\\]\n",
      "After 4 step:\n",
      "[0/[30, -7, 22]\\]\n",
      "[1(0)/[30, -7, 22]\\, 2(0)/[-35, 15, -23]\\]\n",
      "[3(2)/[-35, 15, -23]\\, 4(2)/[-18, -36, 5]\\, 5(2)/[48, 3, 29]\\]\n",
      "[6(3)/[-35, 15, -23]\\, 7(3)/[36, -27, -32]\\, 8(4)/[-18, -36, 5]\\, 9(4)/[4, 43, -31]\\, 10(5)/[48, 3, 29]\\, 11(5)/[44, 21, 20]\\]\n",
      "[12(6)/[-35, 15, -23]\\, 13(6)/[-48, -48, 5]\\, 14(7)/[-31, -11, 19]\\, 15(7)/[36, -27, -32]\\, 16(8)/[-43, 50, 14]\\, 17(8)/[-18, -36, 5]\\, 18(9)/[4, 43, -31]\\, 19(9)/[-44, 47, 37]\\]\n",
      "Game cost array: [30, -7, 22]\n",
      "Winner is 1 player (30)\n",
      "Path is [0, 1]\n"
     ]
    }
   ],
   "source": [
    "tree = generate_random_game_tree(g_cur_game)\n",
    "solution = reverse_induction(tree, g_cur_game)\n",
    "path = get_path(solution.path_last)\n",
    "print(\"Game cost array: {}\".format(solution.cost_array))\n",
    "print(\"Winner is {} player ({})\".format(1 + get_max_index(solution.cost_array), max(solution.cost_array)))\n",
    "print(\"Path is {}\".format(path))"
   ]
  },
  {
   "cell_type": "code",
   "execution_count": 24,
   "id": "f6c7748f",
   "metadata": {},
   "outputs": [
    {
     "name": "stdout",
     "output_type": "stream",
     "text": [
      "Collecting networkx\n",
      "  Downloading networkx-2.8.2-py3-none-any.whl (2.0 MB)\n",
      "     |████████████████████████████████| 2.0 MB 1.5 MB/s            \n",
      "\u001b[?25hInstalling collected packages: networkx\n",
      "Successfully installed networkx-2.8.2\n",
      "\u001b[33mWARNING: You are using pip version 21.3.1; however, version 22.1.1 is available.\n",
      "You should consider upgrading via the '/usr/local/Cellar/jupyterlab/3.3.2/libexec/bin/python3.9 -m pip install --upgrade pip' command.\u001b[0m\n",
      "Note: you may need to restart the kernel to use updated packages.\n"
     ]
    }
   ],
   "source": [
    "pip install networkx"
   ]
  },
  {
   "cell_type": "code",
   "execution_count": 19,
   "id": "8a2aefbe",
   "metadata": {},
   "outputs": [
    {
     "name": "stdout",
     "output_type": "stream",
     "text": [
      "[0.49, 0.45, 0.45, 0.58285714285714, 0.45, 0.45, 0.45]\n"
     ]
    },
    {
     "data": {
      "image/png": "[encoded data removed]",
      "text/plain": [
       "<Figure size 432x288 with 1 Axes>"
      ]
     },
     "metadata": {},
     "output_type": "display_data"
    }
   ],
   "source": [
    "import networkx as nx\n",
    "import numpy as np\n",
    "import matplotlib.pyplot as plt\n",
    "import pylab\n",
    "\n",
    "G = nx.DiGraph()\n",
    "\n",
    "G.add_edges_from([('A', 'B'),('C','D'),('G','D')], weight=1)\n",
    "G.add_edges_from([('D','A'),('D','E'),('B','D'),('D','E')], weight=2)\n",
    "G.add_edges_from([('B','C'),('E','F')], weight=3)\n",
    "G.add_edges_from([('C','F')], weight=4)\n",
    "\n",
    "\n",
    "val_map = {'A': 0.49,\n",
    "                   'D': 0.58285714285714,\n",
    "                              'H': 0.587}\n",
    "\n",
    "values = [val_map.get(node, 0.45) for node in G.nodes()]\n",
    "print (values)\n",
    "edge_labels=dict([((u,v,),d['weight'])\n",
    "                 for u,v,d in G.edges(data=True)])\n",
    "red_edges = [('C','D'),('D','A')]\n",
    "edge_colors = ['black' if not edge in red_edges else 'red' for edge in G.edges()]\n",
    "\n",
    "pos=nx.spring_layout(G)\n",
    "nx.draw_networkx_edge_labels(G,pos,edge_labels=edge_labels)\n",
    "nx.draw(G,pos, node_color = values, node_size=1500,edge_color=edge_colors,edge_cmap=plt.cm.Reds)\n",
    "pylab.show()"
   ]
  },
  {
   "cell_type": "code",
   "execution_count": 16,
   "id": "3756e362",
   "metadata": {},
   "outputs": [
    {
     "name": "stdout",
     "output_type": "stream",
     "text": [
      "Requirement already satisfied: graphviz in /usr/local/Cellar/jupyterlab/3.3.2/libexec/lib/python3.9/site-packages (0.20)\n",
      "\u001b[33mWARNING: You are using pip version 21.3.1; however, version 22.1.1 is available.\n",
      "You should consider upgrading via the '/usr/local/Cellar/jupyterlab/3.3.2/libexec/bin/python3.9 -m pip install --upgrade pip' command.\u001b[0m\n",
      "Note: you may need to restart the kernel to use updated packages.\n"
     ]
    }
   ],
   "source": [
    "pip install graphviz"
   ]
  },
  {
   "cell_type": "code",
   "execution_count": 21,
   "id": "5f2c2974",
   "metadata": {},
   "outputs": [],
   "source": [
    "import graphviz\n",
    "\n",
    "dot = graphviz.Digraph(comment='The Round Table')\n",
    "\n",
    "dot.node('A', 'King Arthur')\n",
    "dot.node('B', 'Sir Bedevere the Wise')\n",
    "dot.node('L', 'Sir Lancelot the Brave')\n",
    "dot.edges(['AB', 'AL'])\n",
    "dot.edge('B', 'L', constraint='false')\n",
    "pylab.show()\n"
   ]
  },
  {
   "cell_type": "code",
   "execution_count": null,
   "id": "642adfb7",
   "metadata": {},
   "outputs": [],
   "source": []
  }
 ],
 "metadata": {
  "kernelspec": {
   "display_name": "Python 3 (ipykernel)",
   "language": "python",
   "name": "python3"
  },
  "language_info": {
   "codemirror_mode": {
    "name": "ipython",
    "version": 3
   },
   "file_extension": ".py",
   "mimetype": "text/x-python",
   "name": "python",
   "nbconvert_exporter": "python",
   "pygments_lexer": "ipython3",
   "version": "3.9.12"
  }
 },
 "nbformat": 4,
 "nbformat_minor": 5
}
