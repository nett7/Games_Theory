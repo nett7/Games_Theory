{
 "cells": [
  {
   "cell_type": "markdown",
   "metadata": {},
   "source": [
    "# Lab_2"
   ]
  },
  {
   "cell_type": "markdown",
   "metadata": {},
   "source": [
    "## Analitical solution"
   ]
  },
  {
   "cell_type": "code",
   "execution_count": 37,
   "metadata": {},
   "outputs": [],
   "source": [
    "from sympy import *"
   ]
  },
  {
   "cell_type": "code",
   "execution_count": 38,
   "metadata": {},
   "outputs": [
    {
     "data": {
      "text/latex": [
       "$\\displaystyle - 5 x^{2} + 15 x y - 4.5 x + 4.5 y^{2} - 9 y$"
      ],
      "text/plain": [
       "-5*x**2 + 15*x*y - 4.5*x + 4.5*y**2 - 9*y"
      ]
     },
     "execution_count": 38,
     "metadata": {},
     "output_type": "execute_result"
    }
   ],
   "source": [
    "a = -5\n",
    "b = 9/2\n",
    "c = 15\n",
    "d = -9/2\n",
    "e = -9\n",
    "\n",
    "x, y = symbols('x y')\n",
    "H = a*x**2 + b*y**2 + c*x*y + d*x + e*y\n",
    "H"
   ]
  },
  {
   "cell_type": "markdown",
   "metadata": {},
   "source": [
    "### Calculation of derivatives and verification"
   ]
  },
  {
   "cell_type": "code",
   "execution_count": 39,
   "metadata": {},
   "outputs": [
    {
     "name": "stdout",
     "output_type": "stream",
     "text": [
      "Игра, заданная ядром H(x, y), выпукло-вогнутая\n",
      "Производная Hxx = -10\n",
      "Производная Hyy = 9.00000000000000\n"
     ]
    }
   ],
   "source": [
    "Hxx = H.diff(x, 2)\n",
    "Hyy = H.diff(y, 2)\n",
    "if Hxx < 0 and Hyy > 0:\n",
    "    print ('Игра, заданная ядром H(x, y), выпукло-вогнутая')\n",
    "else:\n",
    "    print ('Игра, заданная ядром H(x, y), не является выпукло-вогнутой')\n",
    "print (f'Производная Hxx = {Hxx}')\n",
    "print (f'Производная Hyy = {Hyy}')"
   ]
  },
  {
   "cell_type": "code",
   "execution_count": 40,
   "metadata": {},
   "outputs": [
    {
     "name": "stdout",
     "output_type": "stream",
     "text": [
      "Производная Hx = -10*x + 15*y - 4.5\n",
      "Производная Hy = 15*x + 9.0*y - 9\n"
     ]
    }
   ],
   "source": [
    "Hx = H.diff(x)\n",
    "Hy = H.diff(y)\n",
    "\n",
    "print (f'Производная Hx = {Hx}')\n",
    "print (f'Производная Hy = {Hy}')"
   ]
  },
  {
   "cell_type": "code",
   "execution_count": 41,
   "metadata": {},
   "outputs": [
    {
     "name": "stdout",
     "output_type": "stream",
     "text": [
      "psi = 3*y/2 - 0.45\n",
      "phi = 1.0 - 1.66666666666667*x\n"
     ]
    }
   ],
   "source": [
    "psi = -(c*y + d) / (2*a)\n",
    "phi = -(c*x + e) / (2*b)\n",
    "print (f'psi = {psi}')\n",
    "print (f'phi = {phi}')"
   ]
  },
  {
   "cell_type": "markdown",
   "metadata": {},
   "source": [
    "### Finding Solution"
   ]
  },
  {
   "cell_type": "code",
   "execution_count": 36,
   "metadata": {},
   "outputs": [
    {
     "data": {
      "text/plain": [
       "{y: 0.300000000000000, x: 0.600000000000000}"
      ]
     },
     "execution_count": 36,
     "metadata": {},
     "output_type": "execute_result"
    }
   ],
   "source": [
    "sol = solve((psi, phi), (x, y))\n",
    "sol"
   ]
  },
  {
   "cell_type": "markdown",
   "metadata": {},
   "source": [
    "### Check"
   ]
  },
  {
   "cell_type": "code",
   "execution_count": 30,
   "metadata": {},
   "outputs": [
    {
     "name": "stdout",
     "output_type": "stream",
     "text": [
      "Solution exist\n",
      "H(x,y) = -4.09500000000000\n"
     ]
    }
   ],
   "source": [
    "if sol[x] <= -e/c and sol[y] >=-d/c:\n",
    "    print('Solution exist')\n",
    "    h = H.subs([(x, sol[x]), (y, sol[y])])\n",
    "    print ('H(x,y) =', h)\n",
    "else:\n",
    "    print('Solution not exist')\n"
   ]
  }
 ],
 "metadata": {
  "kernelspec": {
   "display_name": "Python 3",
   "language": "python",
   "name": "python3"
  },
  "language_info": {
   "codemirror_mode": {
    "name": "ipython",
    "version": 3
   },
   "file_extension": ".py",
   "mimetype": "text/x-python",
   "name": "python",
   "nbconvert_exporter": "python",
   "pygments_lexer": "ipython3",
   "version": "3.9.12"
  }
 },
 "nbformat": 4,
 "nbformat_minor": 4
}
