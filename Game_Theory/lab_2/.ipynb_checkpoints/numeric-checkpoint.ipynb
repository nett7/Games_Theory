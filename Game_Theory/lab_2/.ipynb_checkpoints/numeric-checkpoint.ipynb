{
 "cells": [
  {
   "cell_type": "code",
   "execution_count": 1,
   "metadata": {},
   "outputs": [
    {
     "ename": "ModuleNotFoundError",
     "evalue": "No module named 'ipynb.fs.full.lab_1'",
     "output_type": "error",
     "traceback": [
      "\u001b[0;31m---------------------------------------------------------------------------\u001b[0m",
      "\u001b[0;31mModuleNotFoundError\u001b[0m                       Traceback (most recent call last)",
      "\u001b[0;32m<ipython-input-1-8c3fed8e9699>\u001b[0m in \u001b[0;36m<module>\u001b[0;34m\u001b[0m\n\u001b[0;32m----> 1\u001b[0;31m \u001b[0;32mfrom\u001b[0m \u001b[0mipynb\u001b[0m\u001b[0;34m.\u001b[0m\u001b[0mfs\u001b[0m\u001b[0;34m.\u001b[0m\u001b[0mfull\u001b[0m\u001b[0;34m.\u001b[0m\u001b[0mlab_1\u001b[0m \u001b[0;32mimport\u001b[0m \u001b[0;34m*\u001b[0m\u001b[0;34m\u001b[0m\u001b[0;34m\u001b[0m\u001b[0m\n\u001b[0m\u001b[1;32m      2\u001b[0m \u001b[0;32mfrom\u001b[0m \u001b[0mfractions\u001b[0m \u001b[0;32mimport\u001b[0m \u001b[0mFraction\u001b[0m\u001b[0;34m\u001b[0m\u001b[0;34m\u001b[0m\u001b[0m\n\u001b[1;32m      3\u001b[0m \u001b[0;34m\u001b[0m\u001b[0m\n\u001b[1;32m      4\u001b[0m \u001b[0;32mimport\u001b[0m \u001b[0mmath\u001b[0m\u001b[0;34m\u001b[0m\u001b[0;34m\u001b[0m\u001b[0m\n\u001b[1;32m      5\u001b[0m \u001b[0;32mimport\u001b[0m \u001b[0mrandom\u001b[0m\u001b[0;34m\u001b[0m\u001b[0;34m\u001b[0m\u001b[0m\n",
      "\u001b[0;31mModuleNotFoundError\u001b[0m: No module named 'ipynb.fs.full.lab_1'"
     ]
    }
   ],
   "source": [
    "from ipynb.fs.full.lab_1 import *\n",
    "from fractions import Fraction\n",
    "\n",
    "import math\n",
    "import random"
   ]
  },
  {
   "cell_type": "code",
   "execution_count": 30,
   "metadata": {},
   "outputs": [],
   "source": [
    "def H(x, y):\n",
    "    ''' The coefficients from example presented below\n",
    "    a, b = Fraction(-3, 1), Fraction(3, 2)\n",
    "    c = Fraction(18/5)\n",
    "    d, e = Fraction(-18, 50), Fraction(-72, 25)\n",
    "    '''\n",
    "    a, b = Fraction(-5, 1), Fraction(5, 12)\n",
    "    c = Fraction(10, 3)\n",
    "    d, e = Fraction(-2, 3), Fraction(-4, 3)\n",
    "    return a * x**2 + b * y**2 + c * x * y + d * x + e * y\n",
    "\n",
    "def find_saddle_point(C):\n",
    "    max_min = None\n",
    "    min_max = None\n",
    "\n",
    "    m = len(C)\n",
    "    n = len(C[0])\n",
    "\n",
    "    max_loss = []\n",
    "    for i in range(n):\n",
    "        max_loss.append(max(get_column_by_index(C, i)))\n",
    "    y = get_min_index(max_loss)\n",
    "    min_max = max_loss[y]\n",
    "\n",
    "    min_win = []\n",
    "    for i in range(n):\n",
    "        min_win.append(min(get_row_by_index(C, i)))\n",
    "    x = get_max_index(min_win)\n",
    "    max_min = min_win[x]\n",
    "    return max_min == min_max, x, y\n",
    "\n",
    "def average(a):\n",
    "    return sum(a) / len(a)\n",
    "\n",
    "def limit(a, eps):\n",
    "    N = -1\n",
    "    ff = False\n",
    "    for i in range(0, len(a) - 1):\n",
    "        ff = True\n",
    "        for j in range(i + 1, len(a)):\n",
    "            if abs(a[j] - a[i]) >= eps:\n",
    "                ff = False\n",
    "                break\n",
    "        if ff:\n",
    "            N = i\n",
    "            break\n",
    "    if not ff:\n",
    "        return math.inf\n",
    "    return average([min(a[N + 1: ]), max(a[N + 1: ])])\n",
    "\n",
    "\n",
    "def calc_grid_element(H, i, j, N):\n",
    "    return H(Fraction(i, N), Fraction(j, N))\n",
    "\n",
    "def generate_grid_approximation(H, n):\n",
    "    cur_H = []\n",
    "    for i in range(n + 1):\n",
    "        cur_H.append([0] * (n + 1))\n",
    "    # fill matrix with calculated values \n",
    "    for i in range(n + 1):\n",
    "        for j in range(n + 1):\n",
    "            cur_H[i][j] = calc_grid_element(H, i, j, n)\n",
    "    return cur_H\n",
    "\n",
    "def grid_approximation_method(H, eps):\n",
    "    cost_array = []\n",
    "    x_array = []\n",
    "    y_array = []\n",
    "    n = 1\n",
    "    while(True):\n",
    "        # create matrix for this iteration\n",
    "        cur_H = generate_grid_approximation(H, n)\n",
    "        print(\"N = {:d}\".format(n))\n",
    "        for i in cur_H:\n",
    "            print(*[\"{:8.3f}\".format(float(j)) for j in i])\n",
    "        has_saddle_point, x, y = find_saddle_point(cur_H)\n",
    "        if has_saddle_point:\n",
    "            h = cur_H[x][y]\n",
    "            x = Fraction(x, n)\n",
    "            y = Fraction(y, n)\n",
    "            print(\"Has saddle point: x = {:}, y = {:}, h = {:} = {:.3f}\".format(x, y, h, float(h)))\n",
    "        else:\n",
    "            print(\"Has no saddle point\")\n",
    "            x, y, h = brown_robinson_method(cur_H, eps)\n",
    "            x = Fraction(get_max_index(x), n)\n",
    "            y = Fraction(get_max_index(y), n)\n",
    "            print(\"Calculated with Brown-Robinson method with\"\n",
    "                  \"accuracy eps = {:.3f} solution: x = {:}, y = {:}, h = {:} = {:.3f}\"\n",
    "                  .format(float(eps), x, y, h, float(h)))\n",
    "        cost_array.append(h)\n",
    "        lim = limit(cost_array, eps)\n",
    "        if lim != math.inf:\n",
    "            x_array.append(x)\n",
    "            y_array.append(y)\n",
    "        stop_lim = limit(cost_array, Fraction(eps, 10))\n",
    "        if stop_lim != math.inf:\n",
    "            return average(x_array), average(y_array), lim"
   ]
  },
  {
   "cell_type": "code",
   "execution_count": 31,
   "metadata": {},
   "outputs": [
    {
     "name": "stdout",
     "output_type": "stream",
     "text": [
      "N = 1\n",
      "   0.000   -0.917\n",
      "  -5.667   -3.250\n",
      "Has saddle point: x = 0, y = 1, h = -11/12 = -0.917\n",
      "N = 1\n",
      "   0.000   -0.917\n",
      "  -5.667   -3.250\n",
      "Has saddle point: x = 0, y = 1, h = -11/12 = -0.917\n",
      "Found solution is: x = 0.000, y = 1.000, c = -11/12 = -0.917\n"
     ]
    }
   ],
   "source": [
    "p = 3\n",
    "x, y, c = grid_approximation_method(H, Fraction(1, 10**p))\n",
    "print(\"Found solution is: x = {:.3f}, y = {:.3f}, c = {:} = {:.3f}\".format(float(x), float(y), c, float(c)))"
   ]
  }
 ],
 "metadata": {
  "kernelspec": {
   "display_name": "Python 3",
   "language": "python",
   "name": "python3"
  },
  "language_info": {
   "codemirror_mode": {
    "name": "ipython",
    "version": 3
   },
   "file_extension": ".py",
   "mimetype": "text/x-python",
   "name": "python",
   "nbconvert_exporter": "python",
   "pygments_lexer": "ipython3",
   "version": "3.9.12"
  }
 },
 "nbformat": 4,
 "nbformat_minor": 4
}
