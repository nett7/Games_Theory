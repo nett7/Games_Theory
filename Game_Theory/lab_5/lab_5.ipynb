{
 "cells": [
  {
   "cell_type": "markdown",
   "id": "218b0a40",
   "metadata": {},
   "source": [
    "# Lab_5"
   ]
  },
  {
   "cell_type": "markdown",
   "id": "e157e24d",
   "metadata": {},
   "source": [
    "## Params"
   ]
  },
  {
   "cell_type": "code",
   "execution_count": 18,
   "id": "e28cbc30",
   "metadata": {},
   "outputs": [],
   "source": [
    "N = 4\n",
    "\n",
    "chars = {\n",
    "    0b0000: 0,  # empty set\n",
    "    0b0001: 2,  # 1\n",
    "    0b0010: 1,  # 2\n",
    "    0b0100: 1,  # 3\n",
    "    0b1000: 2,  # 4\n",
    "    0b0011: 4,  # 1 2\n",
    "    0b0101: 4,  # 1 3\n",
    "    0b1001: 4,  # 1 4\n",
    "    0b0110: 2,  # 2 3\n",
    "    0b1010: 4,  # 2 4\n",
    "    0b1100: 4,  # 3 4\n",
    "    0b0111: 7,  # 1 2 3\n",
    "    0b1011: 8,  # 1 2 4\n",
    "    0b1101: 8, # 1 3 4\n",
    "    0b1110: 6,  # 2 3 4\n",
    "    0b1111: 10  # 1 2 3 4\n",
    "}"
   ]
  },
  {
   "cell_type": "code",
   "execution_count": 19,
   "id": "8e99a634",
   "metadata": {},
   "outputs": [],
   "source": [
    "from math import factorial\n",
    "from fractions import Fraction"
   ]
  },
  {
   "cell_type": "markdown",
   "id": "76155028",
   "metadata": {},
   "source": [
    "## Functions"
   ]
  },
  {
   "cell_type": "code",
   "execution_count": 20,
   "id": "c7bd540c",
   "metadata": {},
   "outputs": [],
   "source": [
    "def is_supperadditive(chars):\n",
    "    for i in chars:\n",
    "        for j in chars:\n",
    "            if (i & j) == 0:\n",
    "                if chars[i | j] < (chars[i] + chars[j]):\n",
    "                    return False\n",
    "    return True\n",
    "\n",
    "def is_convex(chars):\n",
    "    for i in chars:\n",
    "        for j in chars:\n",
    "            if (chars[i | j] + chars[i & j]) < (chars[i] + chars[j]):\n",
    "#                 print(i, j)\n",
    "                return False\n",
    "    return True\n",
    "\n",
    "def sets_power(s):\n",
    "    res = 0\n",
    "    while s:\n",
    "        res += s & 0x01\n",
    "        s >>= 1\n",
    "    return res\n",
    "\n",
    "def shapley_value(chars):\n",
    "    vec = []\n",
    "    for i in range(N):\n",
    "        res = Fraction(0)\n",
    "        for coal in chars:\n",
    "            if (coal & 2**i) == 0:\n",
    "                continue\n",
    "            coal_power = sets_power(coal)\n",
    "            res += (factorial(coal_power - 1) *\n",
    "                        factorial(N - coal_power) *\n",
    "                            (chars[coal] - chars[coal & ~(2**i)]))\n",
    "        res /= factorial(N) \n",
    "        vec.append(res)\n",
    "    return vec\n",
    "\n",
    "def check_group_rationalization(vec):\n",
    "    return sum(vec) == chars[2**N - 1]\n",
    "\n",
    "def check_individual_rationalization(vec):\n",
    "    for i in range(N):\n",
    "        if vec[i] < chars[2**i]:\n",
    "            return False\n",
    "    return True "
   ]
  },
  {
   "cell_type": "markdown",
   "id": "01dbc491",
   "metadata": {},
   "source": [
    "## Main"
   ]
  },
  {
   "cell_type": "code",
   "execution_count": 21,
   "id": "4722f0aa",
   "metadata": {},
   "outputs": [
    {
     "name": "stdout",
     "output_type": "stream",
     "text": [
      "Game is supperadditive\n",
      "Game isn't convex\n",
      "Shapley vector: [3.25, 1.92, 1.92, 2.92]\n",
      "Group rationalization: OK\n",
      "Individual rationalization: OK\n"
     ]
    }
   ],
   "source": [
    "if is_supperadditive(chars):\n",
    "        print(\"Game is supperadditive\")\n",
    "else:\n",
    "    print(\"Game isn't supperadditive\")\n",
    "\n",
    "if is_convex(chars):\n",
    "    print(\"Game is convex\")\n",
    "else:\n",
    "    print(\"Game isn't convex\")\n",
    "\n",
    "shapley_vector = shapley_value(chars)\n",
    "print(\"Shapley vector: [{:s}]\".format(\", \".join([\"{:.2f}\".format(float(i)) for i in shapley_vector])))\n",
    "\n",
    "if check_group_rationalization(shapley_vector):\n",
    "    print(\"Group rationalization: OK\")\n",
    "else:\n",
    "    print(\"Group rationalization: FAILED\")\n",
    "\n",
    "if check_individual_rationalization(shapley_vector):\n",
    "    print(\"Individual rationalization: OK\")\n",
    "else:\n",
    "    print(\"Individual rationalization: FAILED\")"
   ]
  }
 ],
 "metadata": {
  "kernelspec": {
   "display_name": "Python 3 (ipykernel)",
   "language": "python",
   "name": "python3"
  },
  "language_info": {
   "codemirror_mode": {
    "name": "ipython",
    "version": 3
   },
   "file_extension": ".py",
   "mimetype": "text/x-python",
   "name": "python",
   "nbconvert_exporter": "python",
   "pygments_lexer": "ipython3",
   "version": "3.9.13"
  }
 },
 "nbformat": 4,
 "nbformat_minor": 5
}
